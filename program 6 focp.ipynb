{
 "cells": [
  {
   "cell_type": "code",
   "execution_count": 21,
   "id": "079cb663",
   "metadata": {},
   "outputs": [
    {
     "name": "stdout",
     "output_type": "stream",
     "text": [
      "Enter the number :5\n",
      "0b100\n"
     ]
    }
   ],
   "source": [
    "def integer_to_binary(n):\n",
    "    \n",
    "    if isinstance(n, int):\n",
    "        return bin(n)\n",
    "    else :\n",
    "        print(\"not even\")\n",
    "num=input(\"Enter the number :\")\n",
    "print (integer_to_binary(4))\n"
   ]
  },
  {
   "cell_type": "code",
   "execution_count": 3,
   "id": "b26fe9c8",
   "metadata": {},
   "outputs": [
    {
     "name": "stdout",
     "output_type": "stream",
     "text": [
      "Enter the number :6\n",
      "The factorial of 6 is [1, 2, 3, 6]\n"
     ]
    }
   ],
   "source": [
    "def factor (n):\n",
    "    fact = []\n",
    "    for i in range(1,n+1 ):\n",
    "        if n % i == 0:\n",
    "            fact.append(i)\n",
    "    return fact\n",
    "\n",
    "num=int(input(\"Enter the number :\"))\n",
    "print(f\"The factorial of {num} is {factor(num)}\")"
   ]
  },
  {
   "cell_type": "code",
   "execution_count": 29,
   "id": "06ee4972",
   "metadata": {},
   "outputs": [
    {
     "name": "stdout",
     "output_type": "stream",
     "text": [
      "enter the number 4\n",
      "True\n",
      "enter the number 5\n",
      "False\n"
     ]
    }
   ],
   "source": [
    "def is_prime(n):\n",
    "    num=input(\"Enter the number:\")\n",
    "    if n <= 1:\n",
    "        return False\n",
    "    for i in range(2, int(n**0.5) + 1):\n",
    "        if n % i == 0:\n",
    "            return False\n",
    "    return True\n",
    "print(is_prime(11))  \n",
    "print(is_prime(4))  "
   ]
  },
  {
   "cell_type": "code",
   "execution_count": 30,
   "id": "31f1b15f",
   "metadata": {},
   "outputs": [
    {
     "name": "stdout",
     "output_type": "stream",
     "text": [
      "dlrowolleh\n"
     ]
    }
   ],
   "source": [
    "def simple_encrypt(message):\n",
    "    no_spaces = message.replace(\" \", \"\")\n",
    "    return no_spaces[::-1]\n",
    "\n",
    "print(simple_encrypt(\"hello world\")) \n"
   ]
  },
  {
   "cell_type": "code",
   "execution_count": 4,
   "id": "0360fc23",
   "metadata": {},
   "outputs": [
    {
     "name": "stdout",
     "output_type": "stream",
     "text": [
      "Encrypted Message: sugfvesmuinwbpudetpscnfvxhvxpneqwhpejdizszkxcevmtw\n",
      "Interval: 5\n"
     ]
    }
   ],
   "source": [
    "import random\n",
    "import string\n",
    "\n",
    "def obfuscate_message(message):\n",
    "    message = message.replace(\" \", \"\")  \n",
    "    interval = random.randint(2, 20)    \n",
    "    result = []\n",
    "    for char in message:\n",
    "        result.append(char)\n",
    "        for _ in range(interval - 1):\n",
    "            result.append(random.choice(string.ascii_lowercase))  \n",
    "    return ''.join(result), interval\n",
    "\n",
    "encrypted_message, interval = obfuscate_message(\"send cheese\")\n",
    "print(\"Encrypted Message:\", encrypted_message)\n",
    "print(\"Interval:\", interval)\n"
   ]
  },
  {
   "cell_type": "code",
   "execution_count": 9,
   "id": "fa6f2117",
   "metadata": {},
   "outputs": [
    {
     "name": "stdout",
     "output_type": "stream",
     "text": [
      "Decrypted message: sendcheese\n"
     ]
    }
   ],
   "source": [
    "def complex_decrypt(encrypted_message, interval):\n",
    "  \n",
    "    decrypted_message = encrypted_message[::interval]\n",
    "    return decrypted_message\n",
    "encrypted_message=\"sugfvesmuinwbpudetpscnfvxhvxpneqwhpejdizszkxcevmtw\"\n",
    "interval=5\n",
    "decrypted_message = complex_decrypt(encrypted_message, interval)\n",
    "print(f\"Decrypted message: {decrypted_message}\")\n",
    "\n"
   ]
  },
  {
   "cell_type": "code",
   "execution_count": null,
   "id": "7e88ac48",
   "metadata": {},
   "outputs": [],
   "source": []
  }
 ],
 "metadata": {
  "kernelspec": {
   "display_name": "Python 3 (ipykernel)",
   "language": "python",
   "name": "python3"
  },
  "language_info": {
   "codemirror_mode": {
    "name": "ipython",
    "version": 3
   },
   "file_extension": ".py",
   "mimetype": "text/x-python",
   "name": "python",
   "nbconvert_exporter": "python",
   "pygments_lexer": "ipython3",
   "version": "3.11.7"
  }
 },
 "nbformat": 4,
 "nbformat_minor": 5
}
