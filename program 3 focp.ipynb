{
 "cells": [
  {
   "cell_type": "code",
   "execution_count": 4,
   "id": "ba35899f",
   "metadata": {},
   "outputs": [
    {
     "name": "stdout",
     "output_type": "stream",
     "text": [
      "Enter your name:   \n",
      "Hello,   ! good to meet you!\n"
     ]
    }
   ],
   "source": [
    "name = input(\"Enter your name: \")\n",
    "if not name:  \n",
    "    print(\"Hello, Stranger!\")\n",
    "else:\n",
    "    print(f\"Hello, {name}! good to meet you!\")\n"
   ]
  },
  {
   "cell_type": "code",
   "execution_count": 5,
   "id": "b5c8a19b",
   "metadata": {},
   "outputs": [
    {
     "name": "stdout",
     "output_type": "stream",
     "text": [
      "Create a new password:\n",
      "Enter your password: helloworld\n",
      "Re-enter your password: h\n",
      "Error: Passwords do not match. Please try again.\n"
     ]
    }
   ],
   "source": [
    "    print(\"Create a new password:\")\n",
    "    password1 = input(\"Enter your password: \")\n",
    "    password2 = input(\"Re-enter your password: \")\n",
    "\n",
    "    if password1 == password2:\n",
    "        print(\"Password set successfully!\")\n",
    "    else:\n",
    "        print(\"Error: Passwords do not match. Please try again.\")\n",
    "\n",
    "\n"
   ]
  },
  {
   "cell_type": "code",
   "execution_count": 7,
   "id": "9cd563aa",
   "metadata": {},
   "outputs": [
    {
     "name": "stdout",
     "output_type": "stream",
     "text": [
      "Create a new password:\n",
      "Enter your password (8-12 characters): subashshah1234\n",
      "Error: Password must be between 8 and 12 characters long.\n"
     ]
    }
   ],
   "source": [
    "\n",
    "    print(\"Create a new password:\")\n",
    "    password1 = input(\"Enter your password (8-12 characters): \")\n",
    "    if len(password1) >= 8 and len(password1) <= 12:\n",
    "\n",
    "        password2 = input(\"Re-enter your password: \")\n",
    "        if password1 == password2:\n",
    "            print(\"Password set successfully!\")\n",
    "        else:\n",
    "            print(\"Error: Passwords do not match. Please try again.\")\n",
    "    else:\n",
    "        print(\"Error: Password must be between 8 and 12 characters long.\")\n",
    "\n",
    "\n"
   ]
  },
  {
   "cell_type": "code",
   "execution_count": 16,
   "id": "308e41d7",
   "metadata": {},
   "outputs": [
    {
     "name": "stdout",
     "output_type": "stream",
     "text": [
      "Create a new password:\n",
      "Enter your password (8-12 characters): helloworld\n",
      "Re- Enter your Password again!helloworld1\n",
      "Error: Confirm password do not match\n"
     ]
    }
   ],
   "source": [
    "BAD_PASSWORDS = ['password', 'letmein', 'sesame', 'hello', 'justinbieber']\n",
    "print(\"Create a new password:\")\n",
    "password1 = input(\"Enter your password (8-12 characters): \")\n",
    "if password1 in BAD_PASSWORDS:\n",
    "    print(\"Common password Please try again!\")\n",
    "if not (8<=len(password1)<=12):\n",
    "    print(\"Error: Password must be between 8 and 12 characters long.\")\n",
    "else:\n",
    "    password2=input(\"Re- Enter your Password again!\")\n",
    "    if password1==password2:\n",
    "        print(\"Password set succesfully!\")\n",
    "    else:\n",
    "        print(\"Error: Confirm password do not match\")\n",
    "        \n",
    "    \n",
    "\n"
   ]
  },
  {
   "cell_type": "code",
   "execution_count": 17,
   "id": "ba0a63c8",
   "metadata": {},
   "outputs": [
    {
     "name": "stdout",
     "output_type": "stream",
     "text": [
      "0 x 7 = 0\n",
      "1 x 7 = 7\n",
      "2 x 7 = 14\n",
      "3 x 7 = 21\n",
      "4 x 7 = 28\n",
      "5 x 7 = 35\n",
      "6 x 7 = 42\n",
      "7 x 7 = 49\n",
      "8 x 7 = 56\n",
      "9 x 7 = 63\n",
      "10 x 7 = 70\n",
      "11 x 7 = 77\n",
      "12 x 7 = 84\n"
     ]
    }
   ],
   "source": [
    "def seven_times_table():\n",
    "    for i in range(13):\n",
    "        print(f\"{i} x 7 = {i * 7}\")\n",
    "seven_times_table()\n"
   ]
  },
  {
   "cell_type": "code",
   "execution_count": 18,
   "id": "8242dead",
   "metadata": {},
   "outputs": [
    {
     "name": "stdout",
     "output_type": "stream",
     "text": [
      "Enter the number for the times table (0 to 12): -5\n",
      "Error: Please enter a number between 0 and 12.\n"
     ]
    }
   ],
   "source": [
    "    table = int(input(\"Enter the number for the times table (0 to 12): \"))\n",
    "    if 0 <= table <= 12:\n",
    "        for i in range(13):\n",
    "            print(f\"{i} x {table} = {i * table}\")\n",
    "    else:\n",
    "        print(\"Error: Please enter a number between 0 and 12.\")\n",
    "\n",
    "\n"
   ]
  },
  {
   "cell_type": "code",
   "execution_count": 19,
   "id": "0b88d743",
   "metadata": {},
   "outputs": [
    {
     "name": "stdout",
     "output_type": "stream",
     "text": [
      "Enter the number for the times table (-12 to 12): -12\n",
      "12 x 12 = 144\n",
      "11 x 12 = 132\n",
      "10 x 12 = 120\n",
      "9 x 12 = 108\n",
      "8 x 12 = 96\n",
      "7 x 12 = 84\n",
      "6 x 12 = 72\n",
      "5 x 12 = 60\n",
      "4 x 12 = 48\n",
      "3 x 12 = 36\n",
      "2 x 12 = 24\n",
      "1 x 12 = 12\n",
      "0 x 12 = 0\n"
     ]
    }
   ],
   "source": [
    "\n",
    "    table = int(input(\"Enter the number for the times table (-12 to 12): \"))\n",
    "\n",
    "    if table < 0:  \n",
    "        table = abs(table)\n",
    "        for i in range(12, -1, -1): \n",
    "            print(f\"{i} x {table} = {i * table}\")\n",
    "    elif 0 <= table <= 12:\n",
    "        for i in range(13):  \n",
    "            print(f\"{i} x {table} = {i * table}\")\n",
    "    else:\n",
    "        print(\"Error: Please enter a number between -12 and 12.\")\n",
    "\n",
    "\n"
   ]
  },
  {
   "cell_type": "code",
   "execution_count": null,
   "id": "7035ea67",
   "metadata": {},
   "outputs": [],
   "source": []
  }
 ],
 "metadata": {
  "kernelspec": {
   "display_name": "Python 3 (ipykernel)",
   "language": "python",
   "name": "python3"
  },
  "language_info": {
   "codemirror_mode": {
    "name": "ipython",
    "version": 3
   },
   "file_extension": ".py",
   "mimetype": "text/x-python",
   "name": "python",
   "nbconvert_exporter": "python",
   "pygments_lexer": "ipython3",
   "version": "3.11.7"
  }
 },
 "nbformat": 4,
 "nbformat_minor": 5
}
