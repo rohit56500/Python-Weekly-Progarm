{
 "cells": [
  {
   "cell_type": "code",
   "execution_count": 4,
   "id": "905a752f",
   "metadata": {},
   "outputs": [
    {
     "name": "stdout",
     "output_type": "stream",
     "text": [
      "Enter a number: -101\n",
      "-101 is in range(0-100): False\n"
     ]
    }
   ],
   "source": [
    "def range(value):\n",
    "    if 0 <= value <= 100:\n",
    "        return True\n",
    "    return False\n",
    "\n",
    "value = int(input(\"Enter a number: \"))\n",
    "print(f\"{value} is in range(0-100): {range(value)}\")"
   ]
  },
  {
   "cell_type": "code",
   "execution_count": 2,
   "id": "3905cde1",
   "metadata": {},
   "outputs": [
    {
     "name": "stdout",
     "output_type": "stream",
     "text": [
      "Uppercase letters: 2\n",
      "Lowercase letters: 8\n"
     ]
    }
   ],
   "source": [
    "def count_case(s):\n",
    "    uppercase_count = 0\n",
    "    lowercase_count = 0\n",
    "\n",
    "    for char in s:\n",
    "        if char.isupper():\n",
    "            uppercase_count += 1\n",
    "        elif char.islower():\n",
    "            lowercase_count += 1\n",
    "\n",
    "    return uppercase_count, lowercase_count\n",
    "\n",
    "test_string = \"Hello World!\"\n",
    "uppercase, lowercase = count_case(test_string)\n",
    "\n",
    "print(f\"Uppercase letters: {uppercase}\")\n",
    "print(f\"Lowercase letters: {lowercase}\")"
   ]
  },
  {
   "cell_type": "code",
   "execution_count": 8,
   "id": "416ed3f3",
   "metadata": {},
   "outputs": [
    {
     "name": "stdout",
     "output_type": "stream",
     "text": [
      "Enter your name: RohIT\n",
      "Hello, Rohit good to meet you !\n"
     ]
    }
   ],
   "source": [
    "def greet_user():\n",
    "    name = input(\"Enter your name: \")\n",
    "    formatted_name = name.capitalize()\n",
    "    print(f\"Hello, {formatted_name} good to meet you !\")\n",
    "\n",
    "greet_user()\n"
   ]
  },
  {
   "cell_type": "code",
   "execution_count": 9,
   "id": "9dec44d6",
   "metadata": {},
   "outputs": [
    {
     "name": "stdout",
     "output_type": "stream",
     "text": [
      "Enter a string: helloworld\n",
      "Original: 'helloworld' new: 'helloworl'\n"
     ]
    }
   ],
   "source": [
    "def remove_last_character(s):\n",
    "    return s[:-1] if len(s) > 1 else s\n",
    "\n",
    "user_input = input(\"Enter a string: \")\n",
    "modified_string = remove_last_character(user_input)\n",
    "\n",
    "print(f\"Original: '{user_input}' new: '{modified_string}'\")\n"
   ]
  },
  {
   "cell_type": "code",
   "execution_count": 7,
   "id": "3e047633",
   "metadata": {},
   "outputs": [
    {
     "name": "stdout",
     "output_type": "stream",
     "text": [
      "Enter the tempature  in Celcius:25\n",
      "25°C = 77.0°F\n",
      "Enter the tempature in Fahrenheit:77\n",
      "77°F = 25.0°C\n"
     ]
    }
   ],
   "source": [
    "def celsius_to_fahrenheit(c):\n",
    "    return c * 9 / 5 + 32\n",
    "\n",
    "def fahrenheit_to_celsius(f):\n",
    "    return (f - 32) * 5 / 9\n",
    "\n",
    "celsius = int(input(\"Enter the tempature  in Celcius:\"))\n",
    "fahrenheit = celsius_to_fahrenheit(celsius)\n",
    "print(f\"{celsius}°C = {fahrenheit:}°F\")\n",
    "\n",
    "fahrenheit = int(input(\"Enter the tempature in Fahrenheit:\"))\n",
    "celsius = fahrenheit_to_celsius(fahrenheit)\n",
    "print(f\"{fahrenheit}°F = {celsius:}°C\")\n"
   ]
  },
  {
   "cell_type": "code",
   "execution_count": 9,
   "id": "a69f1c02",
   "metadata": {},
   "outputs": [
    {
     "name": "stdout",
     "output_type": "stream",
     "text": [
      "Enter the temperature in celcius in this formate (18C):32c\n",
      "32c is equivalent to 89.6F\n"
     ]
    }
   ],
   "source": [
    "def celsius_to_fahrenheit(c):\n",
    "    celcius=float(c.rstrip(\"Cc\"))\n",
    "    fahrenheit=celcius * 9 / 5 + 32\n",
    "    return fahrenheit\n",
    "celcius=input(\"Enter the temperature in celcius in this formate (18C):\")\n",
    "print(f\"{celcius} is equivalent to {celsius_to_fahrenheit(celcius)}F\")\n"
   ]
  },
  {
   "cell_type": "code",
   "execution_count": 21,
   "id": "7049e6c2",
   "metadata": {},
   "outputs": [
    {
     "name": "stdout",
     "output_type": "stream",
     "text": [
      "Enter temperature 1 in Celsius (e.g., 18C): 1c\n",
      "Enter temperature 2 in Celsius (e.g., 18C): 2c\n",
      "Enter temperature 3 in Celsius (e.g., 18C): 3c\n",
      "Enter temperature 4 in Celsius (e.g., 18C): 4c\n",
      "Enter temperature 5 in Celsius (e.g., 18C): 5c\n",
      "Enter temperature 6 in Celsius (e.g., 18C): 6c\n",
      "Fahrenheit temperatures: [33.8, 35.6, 37.4, 39.2, 41.0, 42.8]\n",
      "The maximum temperature is 42.80F\n",
      "The minimum temperature is 33.80F\n",
      "The mean temperature is 38.30F\n"
     ]
    }
   ],
   "source": [
    "import statistics\n",
    "\n",
    "def celsius_to_fahrenheit(c):\n",
    "    fahrenheit = []\n",
    "    for temp in c:\n",
    "        try:\n",
    "            celsius = float(temp.rstrip(\"Cc\"))\n",
    "            fahrenheit_conversion = celsius * 9 / 5 + 32\n",
    "            fahrenheit.append(fahrenheit_conversion)\n",
    "        except ValueError:\n",
    "            print(f\"Invalid temperature format: {temp}\")\n",
    "            fahrenheit.append(None)  # Append None to indicate an error\n",
    "    return fahrenheit\n",
    "\n",
    "def user_input():\n",
    "    temp_celsius = []\n",
    "    for i in range(6):\n",
    "        celsius = input(f\"Enter temperature {i + 1} in Celsius (e.g., 18C): \")\n",
    "        temp_celsius.append(celsius)\n",
    "    return temp_celsius\n",
    "\n",
    "def main():\n",
    "    temp_celsius = user_input()\n",
    "    fahrenheit_temperatures = celsius_to_fahrenheit(temp_celsius)\n",
    "    \n",
    "    # Remove None values that indicate errors\n",
    "    valid_temps = [temp for temp in fahrenheit_temperatures if temp is not None]\n",
    "    \n",
    "    if not valid_temps:\n",
    "        print(\"No valid temperatures to calculate statistics.\")\n",
    "        return\n",
    "\n",
    "    print(f\"Fahrenheit temperatures: {valid_temps}\")\n",
    "    print(f\"The maximum temperature is {max(valid_temps):.2f}F\")\n",
    "    print(f\"The minimum temperature is {min(valid_temps):.2f}F\")\n",
    "    print(f\"The mean temperature is {statistics.mean(valid_temps):.2f}F\")\n",
    "\n",
    "if __name__ == \"__main__\":\n",
    "    main()\n"
   ]
  },
  {
   "cell_type": "code",
   "execution_count": 10,
   "id": "8ab071ad",
   "metadata": {},
   "outputs": [
    {
     "name": "stdout",
     "output_type": "stream",
     "text": [
      "Enter temperature 1 in Celsius (e.g., 18C) or press enter to exit input: 22c\n",
      "Enter temperature 2 in Celsius (e.g., 18C) or press enter to exit input: 22\n",
      "Enter temperature 3 in Celsius (e.g., 18C) or press enter to exit input: 23\n",
      "Enter temperature 4 in Celsius (e.g., 18C) or press enter to exit input: 44\n",
      "Enter temperature 5 in Celsius (e.g., 18C) or press enter to exit input: 56c\n",
      "Enter temperature 6 in Celsius (e.g., 18C) or press enter to exit input: 66c\n",
      "Enter temperature 7 in Celsius (e.g., 18C) or press enter to exit input: 64c\n",
      "Enter temperature 8 in Celsius (e.g., 18C) or press enter to exit input: \n",
      "Fahrenheit temperatures: [71.6, 71.6, 73.4, 111.2, 132.8, 150.8, 147.2]\n",
      "The maximum temperature is 150.80F\n",
      "The minimum temperature is 71.60F\n",
      "The mean temperature is 108.37F\n"
     ]
    }
   ],
   "source": [
    "import statistics\n",
    "\n",
    "def celsius_to_fahrenheit(c):\n",
    "    fahrenheit = []\n",
    "    for temp in c:\n",
    "        try:\n",
    "            celsius = float(temp.rstrip(\"Cc\"))\n",
    "            fahrenheit_conversion = celsius * 9 / 5 + 32\n",
    "            fahrenheit.append(fahrenheit_conversion)\n",
    "        except ValueError:\n",
    "            print(f\"Invalid temperature format: {temp}\")\n",
    "            fahrenheit.append(None)  \n",
    "    return fahrenheit\n",
    "\n",
    "def user_input():\n",
    "    temp_celsius = []\n",
    "    i = 0\n",
    "    while True:\n",
    "        celsius = input(f\"Enter temperature {i + 1} in Celsius (e.g., 18C) or press enter to exit input: \")\n",
    "        if celsius == \"\":\n",
    "            break\n",
    "        else:\n",
    "            temp_celsius.append(celsius)\n",
    "        i += 1\n",
    "    return temp_celsius\n",
    "\n",
    "def main():\n",
    "    temp_celsius = user_input()\n",
    "    fahrenheit_temperatures = celsius_to_fahrenheit(temp_celsius)\n",
    "    \n",
    "    valid_temps = [temp for temp in fahrenheit_temperatures if temp is not None]\n",
    "    \n",
    "    if not valid_temps:\n",
    "        print(\"No valid temperatures to calculate statistics.\")\n",
    "        return\n",
    "\n",
    "    print(f\"Fahrenheit temperatures: {valid_temps}\")\n",
    "    print(f\"The maximum temperature is {max(valid_temps):.2f}F\")\n",
    "    print(f\"The minimum temperature is {min(valid_temps):.2f}F\")\n",
    "    print(f\"The mean temperature is {statistics.mean(valid_temps):.2f}F\")\n",
    "\n",
    "if __name__ == \"__main__\":\n",
    "    main()\n"
   ]
  },
  {
   "cell_type": "markdown",
   "id": "7b01148d",
   "metadata": {},
   "source": []
  }
 ],
 "metadata": {
  "kernelspec": {
   "display_name": "Python 3 (ipykernel)",
   "language": "python",
   "name": "python3"
  },
  "language_info": {
   "codemirror_mode": {
    "name": "ipython",
    "version": 3
   },
   "file_extension": ".py",
   "mimetype": "text/x-python",
   "name": "python",
   "nbconvert_exporter": "python",
   "pygments_lexer": "ipython3",
   "version": "3.11.7"
  }
 },
 "nbformat": 4,
 "nbformat_minor": 5
}
