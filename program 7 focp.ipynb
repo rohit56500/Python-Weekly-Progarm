{
 "cells": [
  {
   "cell_type": "code",
   "execution_count": 1,
   "id": "d81a7dc3",
   "metadata": {},
   "outputs": [
    {
     "name": "stdout",
     "output_type": "stream",
     "text": [
      "['c', 'e', 'h', 's']\n"
     ]
    }
   ],
   "source": [
    "def unique_sorted_letters(s):\n",
    "    return sorted(set(s.replace(\" \", \"\")))\n",
    "\n",
    "print(unique_sorted_letters(\"cheese\")) \n"
   ]
  },
  {
   "cell_type": "code",
   "execution_count": 2,
   "id": "1b49a7c8",
   "metadata": {},
   "outputs": [
    {
     "name": "stdout",
     "output_type": "stream",
     "text": [
      "['b', 'c', 'e', 'h', 'r', 's', 'z']\n"
     ]
    }
   ],
   "source": [
    "def union_letters(word1, word2):\n",
    "    return sorted(set(word1) | set(word2))\n",
    "\n",
    "print(union_letters(\"cheese\", \"breeze\")) \n"
   ]
  },
  {
   "cell_type": "code",
   "execution_count": 5,
   "id": "e3335970",
   "metadata": {},
   "outputs": [
    {
     "name": "stdout",
     "output_type": "stream",
     "text": [
      "['e']\n"
     ]
    }
   ],
   "source": [
    "def intersection_letters(word1, word2):\n",
    "    return sorted(set(word1) & set(word2))\n",
    "\n",
    "print(intersection_letters(\"cheese\", \"breeze\"))  # Output: ['e']\n",
    "\n",
    "\n"
   ]
  },
  {
   "cell_type": "code",
   "execution_count": 6,
   "id": "582b5d42",
   "metadata": {},
   "outputs": [
    {
     "name": "stdout",
     "output_type": "stream",
     "text": [
      "['b', 'c', 'h', 'r', 's', 'z']\n"
     ]
    }
   ],
   "source": [
    "def symmetric_difference_letters(word1, word2):\n",
    "    return sorted(set(word1) ^ set(word2))\n",
    "\n",
    "print(symmetric_difference_letters(\"cheese\", \"breeze\"))  # Output: ['b', 'c', 'h', 'r', 's', 'z']\n"
   ]
  },
  {
   "cell_type": "code",
   "execution_count": null,
   "id": "77be110d",
   "metadata": {},
   "outputs": [],
   "source": []
  },
  {
   "cell_type": "code",
   "execution_count": 1,
   "id": "fc225de9",
   "metadata": {},
   "outputs": [
    {
     "name": "stdout",
     "output_type": "stream",
     "text": [
      "Enter the name of a country : nepal\n",
      "Enter the capital city of Nepal: Kathmandu \n",
      "Enter the name of a country : wales\n",
      "Enter the capital city of Wales: Wale\n",
      "Enter the name of a country : wales\n",
      "The capital city of Wales is Wale.\n",
      "Enter the name of a country : exit\n"
     ]
    }
   ],
   "source": [
    "def manage_capitals():\n",
    "    capitals = {}\n",
    "    while True:\n",
    "        country = input(\"Enter the name of a country : \")\n",
    "        if country == 'exit':\n",
    "            break\n",
    "        if country in capitals:\n",
    "            print(f\"The capital city of {country.title()} is {capitals[country]}.\")\n",
    "        else:\n",
    "            capital = input(f\"Enter the capital city of {country.title()}: \")\n",
    "            capitals[country] = capital\n",
    "\n",
    "manage_capitals()\n"
   ]
  },
  {
   "cell_type": "code",
   "execution_count": 4,
   "id": "f9d63081",
   "metadata": {},
   "outputs": [
    {
     "name": "stdout",
     "output_type": "stream",
     "text": [
      "[('l', 3), ('m', 3), ('a', 3), ('h', 2), ('e', 2), ('o', 2)]\n"
     ]
    }
   ],
   "source": [
    "from collections import Counter\n",
    "\n",
    "def frequency_analysis(message):\n",
    "    message = message.lower()\n",
    "    counter = Counter(filter(str.isalpha, message))\n",
    "    most_common = counter.most_common(6)\n",
    "    return most_common\n",
    "\n",
    "# Test the function\n",
    "message = \"Hello i m from kathmandu nepal\"\n",
    "print(frequency_analysis(message))\n",
    "\n"
   ]
  },
  {
   "cell_type": "code",
   "execution_count": null,
   "id": "c21b0ff8",
   "metadata": {},
   "outputs": [],
   "source": []
  }
 ],
 "metadata": {
  "kernelspec": {
   "display_name": "Python 3 (ipykernel)",
   "language": "python",
   "name": "python3"
  },
  "language_info": {
   "codemirror_mode": {
    "name": "ipython",
    "version": 3
   },
   "file_extension": ".py",
   "mimetype": "text/x-python",
   "name": "python",
   "nbconvert_exporter": "python",
   "pygments_lexer": "ipython3",
   "version": "3.11.7"
  }
 },
 "nbformat": 4,
 "nbformat_minor": 5
}
