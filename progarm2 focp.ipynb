{
 "cells": [
  {
   "cell_type": "code",
   "execution_count": 2,
   "id": "67e25414",
   "metadata": {},
   "outputs": [
    {
     "name": "stdout",
     "output_type": "stream",
     "text": [
      "Hello, what is your name?rohan\n",
      "Hello, rohan. Good to meet you!\n"
     ]
    }
   ],
   "source": [
    "user_name = input(\"Hello, what is your name?\") \n",
    "print(f\"Hello, {user_name}. Good to meet you!\")  \n"
   ]
  },
  {
   "cell_type": "code",
   "execution_count": 8,
   "id": "dab2356c",
   "metadata": {},
   "outputs": [
    {
     "name": "stdout",
     "output_type": "stream",
     "text": [
      "Enter a temperature in Celsius:22\n",
      "22.0C is equivalent to 71.6F.\n"
     ]
    }
   ],
   "source": [
    "celsius = float(input(\"Enter a temperature in Celsius:\"))  \n",
    "fahrenheit = (celsius * 1.8) + 32  \n",
    "print(f\"{celsius}C is equivalent to {fahrenheit}F.\")  \n"
   ]
  },
  {
   "cell_type": "code",
   "execution_count": 10,
   "id": "f8a9cf50",
   "metadata": {},
   "outputs": [
    {
     "name": "stdout",
     "output_type": "stream",
     "text": [
      "How many students are there ?:22\n",
      "Required group size?:5\n",
      "There will be  4 groups with 2 students left over \n"
     ]
    }
   ],
   "source": [
    "students = int(input((\"How many students are there ?:\")))  \n",
    "group = int(input(\"Required group size?:\"))\n",
    "\n",
    "groups = students // group\n",
    "size=students % group\n",
    "if size>1:\n",
    "    print( \"There will be \",groups,\"groups with\", size ,\"students left over \")\n",
    "else:\n",
    "    print( \"There will be \",groups,\"groups with\", size ,\"student left over \")"
   ]
  },
  {
   "cell_type": "code",
   "execution_count": 3,
   "id": "9e698433",
   "metadata": {},
   "outputs": [
    {
     "name": "stdout",
     "output_type": "stream",
     "text": [
      "Enter the sweet :51\n",
      "Enter the pupil :25\n",
      "Sweet given to each pupil 2 sweets with 1  left over \n"
     ]
    }
   ],
   "source": [
    "sweet=int(input(\"Enter the sweet :\"))\n",
    "pupil=int(input(\"Enter the pupil :\"))\n",
    "\n",
    "attend=sweet // pupil\n",
    "size=sweet % pupil\n",
    "if size>1:\n",
    "    print( \"Sweet given to each pupil \",attend,\" sweet with\", size ,\" lefts over \")\n",
    "else:\n",
    "    print( \"Sweet given to each pupil\",attend,\"sweets with\", size ,\" left over \")\n"
   ]
  },
  {
   "cell_type": "code",
   "execution_count": null,
   "id": "ee0d1161",
   "metadata": {},
   "outputs": [],
   "source": []
  }
 ],
 "metadata": {
  "kernelspec": {
   "display_name": "Python 3 (ipykernel)",
   "language": "python",
   "name": "python3"
  },
  "language_info": {
   "codemirror_mode": {
    "name": "ipython",
    "version": 3
   },
   "file_extension": ".py",
   "mimetype": "text/x-python",
   "name": "python",
   "nbconvert_exporter": "python",
   "pygments_lexer": "ipython3",
   "version": "3.11.7"
  }
 },
 "nbformat": 4,
 "nbformat_minor": 5
}
